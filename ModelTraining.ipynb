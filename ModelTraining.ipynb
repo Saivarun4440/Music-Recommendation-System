{
 "cells": [
  {
   "cell_type": "code",
   "execution_count": 5,
   "id": "50ac34ed",
   "metadata": {
    "tags": []
   },
   "outputs": [],
   "source": [
    "import pandas as pd"
   ]
  },
  {
   "cell_type": "code",
   "execution_count": 6,
   "id": "a8dc045d-0133-4ed6-aea8-99f2b4de47ab",
   "metadata": {
    "tags": []
   },
   "outputs": [
    {
     "name": "stdout",
     "output_type": "stream",
     "text": [
      "C:\\Users\\saiva\\Downloads\\MusicRecommendationSystem\n"
     ]
    }
   ],
   "source": [
    "cd C:\\Users\\saiva\\Downloads\\MusicRecommendationSystem"
   ]
  },
  {
   "cell_type": "code",
   "execution_count": 7,
   "id": "8d218487",
   "metadata": {
    "tags": []
   },
   "outputs": [],
   "source": [
    "df = pd.read_csv(\"spotify_millsongdata.csv\")"
   ]
  },
  {
   "cell_type": "markdown",
   "id": "ae8a7760-7dd8-4f40-ae26-cef6b80bd425",
   "metadata": {},
   "source": [
    "Reading the first ten rows of the Dataset "
   ]
  },
  {
   "cell_type": "code",
   "execution_count": 8,
   "id": "79919672",
   "metadata": {
    "tags": []
   },
   "outputs": [
    {
     "data": {
      "text/html": [
       "<div>\n",
       "<style scoped>\n",
       "    .dataframe tbody tr th:only-of-type {\n",
       "        vertical-align: middle;\n",
       "    }\n",
       "\n",
       "    .dataframe tbody tr th {\n",
       "        vertical-align: top;\n",
       "    }\n",
       "\n",
       "    .dataframe thead th {\n",
       "        text-align: right;\n",
       "    }\n",
       "</style>\n",
       "<table border=\"1\" class=\"dataframe\">\n",
       "  <thead>\n",
       "    <tr style=\"text-align: right;\">\n",
       "      <th></th>\n",
       "      <th>artist</th>\n",
       "      <th>song</th>\n",
       "      <th>link</th>\n",
       "      <th>text</th>\n",
       "    </tr>\n",
       "  </thead>\n",
       "  <tbody>\n",
       "    <tr>\n",
       "      <th>0</th>\n",
       "      <td>ABBA</td>\n",
       "      <td>Ahe's My Kind Of Girl</td>\n",
       "      <td>/a/abba/ahes+my+kind+of+girl_20598417.html</td>\n",
       "      <td>Look at her face, it's a wonderful face  \\r\\nA...</td>\n",
       "    </tr>\n",
       "    <tr>\n",
       "      <th>1</th>\n",
       "      <td>ABBA</td>\n",
       "      <td>Andante, Andante</td>\n",
       "      <td>/a/abba/andante+andante_20002708.html</td>\n",
       "      <td>Take it easy with me, please  \\r\\nTouch me gen...</td>\n",
       "    </tr>\n",
       "    <tr>\n",
       "      <th>2</th>\n",
       "      <td>ABBA</td>\n",
       "      <td>As Good As New</td>\n",
       "      <td>/a/abba/as+good+as+new_20003033.html</td>\n",
       "      <td>I'll never know why I had to go  \\r\\nWhy I had...</td>\n",
       "    </tr>\n",
       "    <tr>\n",
       "      <th>3</th>\n",
       "      <td>ABBA</td>\n",
       "      <td>Bang</td>\n",
       "      <td>/a/abba/bang_20598415.html</td>\n",
       "      <td>Making somebody happy is a question of give an...</td>\n",
       "    </tr>\n",
       "    <tr>\n",
       "      <th>4</th>\n",
       "      <td>ABBA</td>\n",
       "      <td>Bang-A-Boomerang</td>\n",
       "      <td>/a/abba/bang+a+boomerang_20002668.html</td>\n",
       "      <td>Making somebody happy is a question of give an...</td>\n",
       "    </tr>\n",
       "    <tr>\n",
       "      <th>5</th>\n",
       "      <td>ABBA</td>\n",
       "      <td>Burning My Bridges</td>\n",
       "      <td>/a/abba/burning+my+bridges_20003011.html</td>\n",
       "      <td>Well, you hoot and you holler and you make me ...</td>\n",
       "    </tr>\n",
       "    <tr>\n",
       "      <th>6</th>\n",
       "      <td>ABBA</td>\n",
       "      <td>Cassandra</td>\n",
       "      <td>/a/abba/cassandra_20002811.html</td>\n",
       "      <td>Down in the street they're all singing and sho...</td>\n",
       "    </tr>\n",
       "    <tr>\n",
       "      <th>7</th>\n",
       "      <td>ABBA</td>\n",
       "      <td>Chiquitita</td>\n",
       "      <td>/a/abba/chiquitita_20002978.html</td>\n",
       "      <td>Chiquitita, tell me what's wrong  \\r\\nYou're e...</td>\n",
       "    </tr>\n",
       "    <tr>\n",
       "      <th>8</th>\n",
       "      <td>ABBA</td>\n",
       "      <td>Crazy World</td>\n",
       "      <td>/a/abba/crazy+world_20003013.html</td>\n",
       "      <td>I was out with the morning sun  \\r\\nCouldn't s...</td>\n",
       "    </tr>\n",
       "    <tr>\n",
       "      <th>9</th>\n",
       "      <td>ABBA</td>\n",
       "      <td>Crying Over You</td>\n",
       "      <td>/a/abba/crying+over+you_20177611.html</td>\n",
       "      <td>I'm waitin' for you baby  \\r\\nI'm sitting all ...</td>\n",
       "    </tr>\n",
       "  </tbody>\n",
       "</table>\n",
       "</div>"
      ],
      "text/plain": [
       "  artist                   song                                        link  \\\n",
       "0   ABBA  Ahe's My Kind Of Girl  /a/abba/ahes+my+kind+of+girl_20598417.html   \n",
       "1   ABBA       Andante, Andante       /a/abba/andante+andante_20002708.html   \n",
       "2   ABBA         As Good As New        /a/abba/as+good+as+new_20003033.html   \n",
       "3   ABBA                   Bang                  /a/abba/bang_20598415.html   \n",
       "4   ABBA       Bang-A-Boomerang      /a/abba/bang+a+boomerang_20002668.html   \n",
       "5   ABBA     Burning My Bridges    /a/abba/burning+my+bridges_20003011.html   \n",
       "6   ABBA              Cassandra             /a/abba/cassandra_20002811.html   \n",
       "7   ABBA             Chiquitita            /a/abba/chiquitita_20002978.html   \n",
       "8   ABBA            Crazy World           /a/abba/crazy+world_20003013.html   \n",
       "9   ABBA        Crying Over You       /a/abba/crying+over+you_20177611.html   \n",
       "\n",
       "                                                text  \n",
       "0  Look at her face, it's a wonderful face  \\r\\nA...  \n",
       "1  Take it easy with me, please  \\r\\nTouch me gen...  \n",
       "2  I'll never know why I had to go  \\r\\nWhy I had...  \n",
       "3  Making somebody happy is a question of give an...  \n",
       "4  Making somebody happy is a question of give an...  \n",
       "5  Well, you hoot and you holler and you make me ...  \n",
       "6  Down in the street they're all singing and sho...  \n",
       "7  Chiquitita, tell me what's wrong  \\r\\nYou're e...  \n",
       "8  I was out with the morning sun  \\r\\nCouldn't s...  \n",
       "9  I'm waitin' for you baby  \\r\\nI'm sitting all ...  "
      ]
     },
     "execution_count": 8,
     "metadata": {},
     "output_type": "execute_result"
    }
   ],
   "source": [
    "df.head(10)"
   ]
  },
  {
   "cell_type": "markdown",
   "id": "b0250af7-c8d7-49ae-8839-5dbd816f2ee4",
   "metadata": {},
   "source": [
    "Representation of the dimensions of the Data Frame"
   ]
  },
  {
   "cell_type": "code",
   "execution_count": 9,
   "id": "d7d8fa2a",
   "metadata": {
    "tags": []
   },
   "outputs": [
    {
     "data": {
      "text/plain": [
       "(57650, 4)"
      ]
     },
     "execution_count": 9,
     "metadata": {},
     "output_type": "execute_result"
    }
   ],
   "source": [
    "df.shape"
   ]
  },
  {
   "cell_type": "markdown",
   "id": "287f1040-d5f9-4b40-bd6b-6db3d0d58d2f",
   "metadata": {},
   "source": [
    "To count the number of missing NULL values in each column of a DataFrame"
   ]
  },
  {
   "cell_type": "code",
   "execution_count": 10,
   "id": "a8fdecf9",
   "metadata": {
    "tags": []
   },
   "outputs": [
    {
     "data": {
      "text/plain": [
       "artist    0\n",
       "song      0\n",
       "link      0\n",
       "text      0\n",
       "dtype: int64"
      ]
     },
     "execution_count": 10,
     "metadata": {},
     "output_type": "execute_result"
    }
   ],
   "source": [
    "df.isnull().sum()"
   ]
  },
  {
   "cell_type": "markdown",
   "id": "6be45850-1dff-4be0-adaa-2fb76f787524",
   "metadata": {},
   "source": [
    "Dropping the link column from the dataframe and resets the index"
   ]
  },
  {
   "cell_type": "code",
   "execution_count": 11,
   "id": "dde3d24b",
   "metadata": {
    "tags": []
   },
   "outputs": [],
   "source": [
    "df =df.sample(5000).drop('link', axis=1).reset_index(drop=True)"
   ]
  },
  {
   "cell_type": "markdown",
   "id": "5f126309-119a-48e0-bf90-d653342e2cbd",
   "metadata": {},
   "source": [
    "Reading the first ten rows of the Dataset again to ensure the Index and whether Link column is dropped or not"
   ]
  },
  {
   "cell_type": "code",
   "execution_count": 12,
   "id": "e66d9385-be00-4021-910a-6b0067079b2e",
   "metadata": {
    "tags": []
   },
   "outputs": [
    {
     "data": {
      "text/html": [
       "<div>\n",
       "<style scoped>\n",
       "    .dataframe tbody tr th:only-of-type {\n",
       "        vertical-align: middle;\n",
       "    }\n",
       "\n",
       "    .dataframe tbody tr th {\n",
       "        vertical-align: top;\n",
       "    }\n",
       "\n",
       "    .dataframe thead th {\n",
       "        text-align: right;\n",
       "    }\n",
       "</style>\n",
       "<table border=\"1\" class=\"dataframe\">\n",
       "  <thead>\n",
       "    <tr style=\"text-align: right;\">\n",
       "      <th></th>\n",
       "      <th>artist</th>\n",
       "      <th>song</th>\n",
       "      <th>text</th>\n",
       "    </tr>\n",
       "  </thead>\n",
       "  <tbody>\n",
       "    <tr>\n",
       "      <th>0</th>\n",
       "      <td>Widespread Panic</td>\n",
       "      <td>Old Joe</td>\n",
       "      <td>Well, Old Joe, he moves slow  \\r\\nHe likes to ...</td>\n",
       "    </tr>\n",
       "    <tr>\n",
       "      <th>1</th>\n",
       "      <td>Harry Connick, Jr.</td>\n",
       "      <td>For Once In My Life</td>\n",
       "      <td>For once in my life I have someone who needs m...</td>\n",
       "    </tr>\n",
       "    <tr>\n",
       "      <th>2</th>\n",
       "      <td>Randy Travis</td>\n",
       "      <td>The Gift</td>\n",
       "      <td>He was born in Bethlehem they say,  \\r\\nThere ...</td>\n",
       "    </tr>\n",
       "    <tr>\n",
       "      <th>3</th>\n",
       "      <td>Puff Daddy</td>\n",
       "      <td>Best Friend</td>\n",
       "      <td>[Puffy] (Mario)  \\r\\nI've seen a lot of things...</td>\n",
       "    </tr>\n",
       "    <tr>\n",
       "      <th>4</th>\n",
       "      <td>Iggy Pop</td>\n",
       "      <td>Beside You</td>\n",
       "      <td>I been hungry way down in my heart  \\r\\nWaitin...</td>\n",
       "    </tr>\n",
       "    <tr>\n",
       "      <th>5</th>\n",
       "      <td>Kinks</td>\n",
       "      <td>Johnny Thunder</td>\n",
       "      <td>Johnny Thunder lives on water, feeds on lightn...</td>\n",
       "    </tr>\n",
       "    <tr>\n",
       "      <th>6</th>\n",
       "      <td>Westlife</td>\n",
       "      <td>Love Can Build A Bridge</td>\n",
       "      <td>I'd gladly walk across the desert  \\r\\nWith no...</td>\n",
       "    </tr>\n",
       "    <tr>\n",
       "      <th>7</th>\n",
       "      <td>Underoath</td>\n",
       "      <td>It's Dangerous Business Walking Out Your Front...</td>\n",
       "      <td>I've been up at this all night long  \\r\\nI've ...</td>\n",
       "    </tr>\n",
       "    <tr>\n",
       "      <th>8</th>\n",
       "      <td>Korn</td>\n",
       "      <td>Blame</td>\n",
       "      <td>So I think you are a fool  \\r\\nHanging on my e...</td>\n",
       "    </tr>\n",
       "    <tr>\n",
       "      <th>9</th>\n",
       "      <td>Elvis Presley</td>\n",
       "      <td>He Touched Me</td>\n",
       "      <td>Shackled by a heavy burden  \\r\\n'Neath a load ...</td>\n",
       "    </tr>\n",
       "  </tbody>\n",
       "</table>\n",
       "</div>"
      ],
      "text/plain": [
       "               artist                                               song  \\\n",
       "0    Widespread Panic                                            Old Joe   \n",
       "1  Harry Connick, Jr.                                For Once In My Life   \n",
       "2        Randy Travis                                           The Gift   \n",
       "3          Puff Daddy                                        Best Friend   \n",
       "4            Iggy Pop                                         Beside You   \n",
       "5               Kinks                                     Johnny Thunder   \n",
       "6            Westlife                            Love Can Build A Bridge   \n",
       "7           Underoath  It's Dangerous Business Walking Out Your Front...   \n",
       "8                Korn                                              Blame   \n",
       "9       Elvis Presley                                      He Touched Me   \n",
       "\n",
       "                                                text  \n",
       "0  Well, Old Joe, he moves slow  \\r\\nHe likes to ...  \n",
       "1  For once in my life I have someone who needs m...  \n",
       "2  He was born in Bethlehem they say,  \\r\\nThere ...  \n",
       "3  [Puffy] (Mario)  \\r\\nI've seen a lot of things...  \n",
       "4  I been hungry way down in my heart  \\r\\nWaitin...  \n",
       "5  Johnny Thunder lives on water, feeds on lightn...  \n",
       "6  I'd gladly walk across the desert  \\r\\nWith no...  \n",
       "7  I've been up at this all night long  \\r\\nI've ...  \n",
       "8  So I think you are a fool  \\r\\nHanging on my e...  \n",
       "9  Shackled by a heavy burden  \\r\\n'Neath a load ...  "
      ]
     },
     "execution_count": 12,
     "metadata": {},
     "output_type": "execute_result"
    }
   ],
   "source": [
    "df.head(10)"
   ]
  },
  {
   "cell_type": "markdown",
   "id": "7455968a-90f0-4919-9828-67ba242920d0",
   "metadata": {},
   "source": [
    "Checking the Text column for Row 0"
   ]
  },
  {
   "cell_type": "code",
   "execution_count": 13,
   "id": "26eb5b1c",
   "metadata": {
    "tags": []
   },
   "outputs": [
    {
     "data": {
      "text/plain": [
       "\"Well, Old Joe, he moves slow  \\r\\nHe likes to look at things and paint pictures on his radio  \\r\\nHe says they make the songs look better.  \\r\\n  \\r\\nOne day, Joe met a girl  \\r\\nSweet breathing thing  \\r\\nDancin' naked, nudey, in the winter snow  \\r\\nUnderneath her dozen sweaters  \\r\\n  \\r\\nAnd someday, somewhere  \\r\\nSome things get hit by lighting  \\r\\nAnd some things just don't  \\r\\nHope we live long and lucky  \\r\\n  \\r\\nAt least one things for sure  \\r\\nOr maybe it isn't.  \\r\\nNo matter where we are  \\r\\nIt's this life that we're livin' in  \\r\\n  \\r\\nAt least one things for sure  \\r\\nOr maybe it isn't.  \\r\\nNo matter where we are  \\r\\nIt's this life that we're livin' in  \\r\\n  \\r\\nAnd someday, somewhere  \\r\\nSome things get hit by lighting  \\r\\nAnd some things just don't  \\r\\nHope we live long and lucky\\r\\n\\r\\n\""
      ]
     },
     "execution_count": 13,
     "metadata": {},
     "output_type": "execute_result"
    }
   ],
   "source": [
    "df['text'][0]"
   ]
  },
  {
   "cell_type": "markdown",
   "id": "8b70c61b-752f-4545-aa3a-0dd4c08a385a",
   "metadata": {},
   "source": [
    "Representation of the dimensions of the Data Frame"
   ]
  },
  {
   "cell_type": "code",
   "execution_count": 14,
   "id": "4a0c4186",
   "metadata": {
    "tags": []
   },
   "outputs": [
    {
     "data": {
      "text/plain": [
       "(5000, 3)"
      ]
     },
     "execution_count": 14,
     "metadata": {},
     "output_type": "execute_result"
    }
   ],
   "source": [
    "df.shape"
   ]
  },
  {
   "cell_type": "markdown",
   "id": "865afecc",
   "metadata": {},
   "source": [
    "Text Cleaning/ Text Preprocessing"
   ]
  },
  {
   "cell_type": "markdown",
   "id": "46da4a74-6a2b-402b-9388-790fd7e28463",
   "metadata": {},
   "source": [
    "1.Converting all the text letters in the Text Column to Lowercase\n",
    "\n",
    "2.Removing the unwanted spaces and newline characters"
   ]
  },
  {
   "cell_type": "code",
   "execution_count": 15,
   "id": "b2359525",
   "metadata": {
    "tags": []
   },
   "outputs": [],
   "source": [
    "df['text'] = df['text'].str.lower().replace(r'^\\w\\s', ' ').replace(r'\\n', ' ', regex = True)"
   ]
  },
  {
   "cell_type": "markdown",
   "id": "b59007f6-cd3a-47ae-9b02-d7c76b144361",
   "metadata": {},
   "source": [
    "Checking the Text column for Row 0"
   ]
  },
  {
   "cell_type": "code",
   "execution_count": 16,
   "id": "ec4259e4-8c30-4713-aa1f-a4b6dc3fabcd",
   "metadata": {
    "tags": []
   },
   "outputs": [
    {
     "data": {
      "text/plain": [
       "\"well, old joe, he moves slow  \\r he likes to look at things and paint pictures on his radio  \\r he says they make the songs look better.  \\r   \\r one day, joe met a girl  \\r sweet breathing thing  \\r dancin' naked, nudey, in the winter snow  \\r underneath her dozen sweaters  \\r   \\r and someday, somewhere  \\r some things get hit by lighting  \\r and some things just don't  \\r hope we live long and lucky  \\r   \\r at least one things for sure  \\r or maybe it isn't.  \\r no matter where we are  \\r it's this life that we're livin' in  \\r   \\r at least one things for sure  \\r or maybe it isn't.  \\r no matter where we are  \\r it's this life that we're livin' in  \\r   \\r and someday, somewhere  \\r some things get hit by lighting  \\r and some things just don't  \\r hope we live long and lucky\\r \\r \""
      ]
     },
     "execution_count": 16,
     "metadata": {},
     "output_type": "execute_result"
    }
   ],
   "source": [
    "df['text'][0]"
   ]
  },
  {
   "cell_type": "markdown",
   "id": "9bdb3e3a-8bf8-49d8-a6f3-1c0691c40d9b",
   "metadata": {},
   "source": [
    "Importing NLTK Library for natural language processing tasks\n",
    "\n",
    "Porter Stemmer : Reduces words to their root or base form\n",
    "\n",
    "word_tokenize function from nltk to tokenize the input text into a list of words."
   ]
  },
  {
   "cell_type": "code",
   "execution_count": 17,
   "id": "7e78451e",
   "metadata": {
    "tags": []
   },
   "outputs": [],
   "source": [
    "import nltk\n",
    "from nltk.stem.porter import PorterStemmer\n",
    "stemmer = PorterStemmer()\n",
    "\n",
    "def tokenization(txt):\n",
    "    tokens = nltk.word_tokenize(txt)\n",
    "    stemming = [stemmer.stem(w) for w in tokens]\n",
    "    return \" \".join(stemming)"
   ]
  },
  {
   "cell_type": "code",
   "execution_count": 18,
   "id": "f5c1ece2",
   "metadata": {
    "tags": []
   },
   "outputs": [],
   "source": [
    "df['text'] = df['text'].apply(lambda x: tokenization(x))"
   ]
  },
  {
   "cell_type": "markdown",
   "id": "ca973f0c-8c37-4e0c-8bfe-ab6a923f0140",
   "metadata": {},
   "source": [
    "Checking the Row 2 in text column to check whether tokenization and stemming is successfully done or not"
   ]
  },
  {
   "cell_type": "code",
   "execution_count": 19,
   "id": "9ac9b38a-ed34-444b-8643-401de9a89a5f",
   "metadata": {
    "tags": []
   },
   "outputs": [
    {
     "data": {
      "text/plain": [
       "\"he wa born in bethlehem they say , there wa a star to light the path to where he lay . rich or poor they came from far and near , caus they 'd all heard the reason he wa here . he wa the son god sent to one and all . put on thi earth to hang there on that cross . born to die so we could live . he had the birthday , we got the gift . they wrap him up with gentl hand . god hope the world would understand . etern life we shall receiv . and all that he ask in return is that we just believ . he wa the son god sent to one and all . put on thi earth to hang there on that cross . born to die so we could live . he had the birthday , we got the gift . there 's no way in thi world we could repay the miracl he gave us on that day . he wa the son god sent to one and all , put on thi earth to hang there on that cross , born to die so we could live . he had the birthday , we got the gift . on our savior 's birthday , we got the gift .\""
      ]
     },
     "execution_count": 19,
     "metadata": {},
     "output_type": "execute_result"
    }
   ],
   "source": [
    "df['text'][2]"
   ]
  },
  {
   "cell_type": "code",
   "execution_count": 20,
   "id": "95fc3be2",
   "metadata": {
    "tags": []
   },
   "outputs": [],
   "source": [
    "from sklearn.feature_extraction.text import TfidfVectorizer\n",
    "from sklearn.metrics.pairwise import cosine_similarity"
   ]
  },
  {
   "cell_type": "markdown",
   "id": "be812882-9157-44de-ac3b-6fcc239e39fc",
   "metadata": {},
   "source": [
    "TfidfVectorizer is a class in scikit-learn that transforms a collection of raw documents into a matrix of TF-IDF features \n",
    "and this TF-IDF will determine the importance of a word in a document relative to a collection of documents.\n",
    "Cosine Similarity computes the similarity between two vectors and removing common English stop words from the text in the below code."
   ]
  },
  {
   "cell_type": "code",
   "execution_count": 21,
   "id": "f4945e8f",
   "metadata": {
    "tags": []
   },
   "outputs": [],
   "source": [
    "tfidvector = TfidfVectorizer(analyzer='word',stop_words='english')\n",
    "matrix = tfidvector.fit_transform(df['text'])\n",
    "similarity = cosine_similarity(matrix)"
   ]
  },
  {
   "cell_type": "code",
   "execution_count": 22,
   "id": "c1794772",
   "metadata": {
    "tags": []
   },
   "outputs": [
    {
     "data": {
      "text/plain": [
       "array([1.        , 0.05884135, 0.05245158, ..., 0.03388055, 0.02175892,\n",
       "       0.04849497])"
      ]
     },
     "execution_count": 22,
     "metadata": {},
     "output_type": "execute_result"
    }
   ],
   "source": [
    "similarity[0]"
   ]
  },
  {
   "cell_type": "code",
   "execution_count": 24,
   "id": "a6221770",
   "metadata": {
    "tags": []
   },
   "outputs": [
    {
     "data": {
      "text/html": [
       "<div>\n",
       "<style scoped>\n",
       "    .dataframe tbody tr th:only-of-type {\n",
       "        vertical-align: middle;\n",
       "    }\n",
       "\n",
       "    .dataframe tbody tr th {\n",
       "        vertical-align: top;\n",
       "    }\n",
       "\n",
       "    .dataframe thead th {\n",
       "        text-align: right;\n",
       "    }\n",
       "</style>\n",
       "<table border=\"1\" class=\"dataframe\">\n",
       "  <thead>\n",
       "    <tr style=\"text-align: right;\">\n",
       "      <th></th>\n",
       "      <th>artist</th>\n",
       "      <th>song</th>\n",
       "      <th>text</th>\n",
       "    </tr>\n",
       "  </thead>\n",
       "  <tbody>\n",
       "    <tr>\n",
       "      <th>0</th>\n",
       "      <td>Widespread Panic</td>\n",
       "      <td>Old Joe</td>\n",
       "      <td>well , old joe , he move slow he like to look ...</td>\n",
       "    </tr>\n",
       "  </tbody>\n",
       "</table>\n",
       "</div>"
      ],
      "text/plain": [
       "             artist     song  \\\n",
       "0  Widespread Panic  Old Joe   \n",
       "\n",
       "                                                text  \n",
       "0  well , old joe , he move slow he like to look ...  "
      ]
     },
     "execution_count": 24,
     "metadata": {},
     "output_type": "execute_result"
    }
   ],
   "source": [
    "df[df['song'] == 'Old Joe']"
   ]
  },
  {
   "cell_type": "markdown",
   "id": "4df3e80e-381b-4bdb-9d8e-cfb39dae2237",
   "metadata": {},
   "source": [
    "Picking up the top 10 songs which has the same similarity scores and then put them in the distances list and then placing them in the output based on their index in the sorted list"
   ]
  },
  {
   "cell_type": "code",
   "execution_count": 25,
   "id": "5aaa2361",
   "metadata": {
    "tags": []
   },
   "outputs": [],
   "source": [
    "def recommendation(song_df):\n",
    "    idx = df[df['song'] == song_df].index[0]\n",
    "    distances = sorted(list(enumerate(similarity[idx])),reverse=True,key=lambda x:x[1])\n",
    "    \n",
    "    songs = []\n",
    "    for m_id in distances[1:11]:\n",
    "        songs.append(df.iloc[m_id[0]].song)\n",
    "        \n",
    "    return songs"
   ]
  },
  {
   "cell_type": "code",
   "execution_count": 26,
   "id": "216c25bb",
   "metadata": {
    "tags": []
   },
   "outputs": [
    {
     "data": {
      "text/plain": [
       "['The One Thing',\n",
       " \"Don't Mess Up A Good Thing\",\n",
       " \"If Only In Heaven's Eyes\",\n",
       " \"Livin' Thing\",\n",
       " 'The Way You Do The Things You Do',\n",
       " 'Someday Morning',\n",
       " \"She's Got You\",\n",
       " \"Don't Go Away\",\n",
       " \"Things I Don't Understand\",\n",
       " 'All Things Go']"
      ]
     },
     "execution_count": 26,
     "metadata": {},
     "output_type": "execute_result"
    }
   ],
   "source": [
    "recommendation('Old Joe')"
   ]
  },
  {
   "cell_type": "markdown",
   "id": "4749684a-ca45-4d60-afc7-95b5d79b774f",
   "metadata": {},
   "source": [
    "Two binary files ('similaritybinaryfile.pkl' and 'dataframebinaryfile.pkl') that store the serialized versions of the similarity matrix and DataFrame, respectively."
   ]
  },
  {
   "cell_type": "code",
   "execution_count": 27,
   "id": "18192437",
   "metadata": {
    "tags": []
   },
   "outputs": [],
   "source": [
    "import pickle\n",
    "pickle.dump(similarity,open('similaritybinaryfile.pkl','wb'))\n",
    "pickle.dump(df,open('dataframebinaryfile.pkl','wb'))"
   ]
  },
  {
   "cell_type": "code",
   "execution_count": null,
   "id": "e7edcf20",
   "metadata": {},
   "outputs": [],
   "source": []
  }
 ],
 "metadata": {
  "kernelspec": {
   "display_name": "Python 3 (ipykernel)",
   "language": "python",
   "name": "python3"
  },
  "language_info": {
   "codemirror_mode": {
    "name": "ipython",
    "version": 3
   },
   "file_extension": ".py",
   "mimetype": "text/x-python",
   "name": "python",
   "nbconvert_exporter": "python",
   "pygments_lexer": "ipython3",
   "version": "3.11.5"
  }
 },
 "nbformat": 4,
 "nbformat_minor": 5
}
